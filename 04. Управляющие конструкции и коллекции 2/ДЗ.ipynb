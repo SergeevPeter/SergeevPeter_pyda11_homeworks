{
 "cells": [
  {
   "cell_type": "markdown",
   "metadata": {},
   "source": [
    "**Задание 1**. Дан список с визитами по городам и странам. \n",
    "Напишите код, который возвращает отфильтрованный список geo_logs, содержащий только визиты из России."
   ]
  },
  {
   "cell_type": "code",
   "execution_count": 1,
   "metadata": {},
   "outputs": [
    {
     "name": "stdout",
     "output_type": "stream",
     "text": [
      "{'visit1': ['Москва', 'Россия']}\n",
      "{'visit3': ['Владимир', 'Россия']}\n",
      "{'visit7': ['Тула', 'Россия']}\n",
      "{'visit8': ['Тула', 'Россия']}\n",
      "{'visit9': ['Курск', 'Россия']}\n",
      "{'visit10': ['Архангельск', 'Россия']}\n"
     ]
    }
   ],
   "source": [
    "geo_logs = [\n",
    "    {'visit1': ['Москва', 'Россия']},\n",
    "    {'visit2': ['Дели', 'Индия']},\n",
    "    {'visit3': ['Владимир', 'Россия']},\n",
    "    {'visit4': ['Лиссабон', 'Португалия']},\n",
    "    {'visit5': ['Париж', 'Франция']},\n",
    "    {'visit6': ['Лиссабон', 'Португалия']},\n",
    "    {'visit7': ['Тула', 'Россия']},\n",
    "    {'visit8': ['Тула', 'Россия']},\n",
    "    {'visit9': ['Курск', 'Россия']},\n",
    "    {'visit10': ['Архангельск', 'Россия']}\n",
    "]\n",
    "\n",
    "for item_1 in geo_logs:\n",
    "    for item_2 in item_1.values():\n",
    "        if item_2[1] in 'Россия': \n",
    "            print(item_1)\n"
   ]
  },
  {
   "cell_type": "markdown",
   "metadata": {},
   "source": [
    "**Задание 2**. Выведите на экран все уникальные гео-ID из значений словаря ids. Т. е. список вида [213, 15, 54, 119, 98, 35]"
   ]
  },
  {
   "cell_type": "code",
   "execution_count": 2,
   "metadata": {},
   "outputs": [
    {
     "name": "stdout",
     "output_type": "stream",
     "text": [
      "[98, 35, 15, 213, 54, 119]\n"
     ]
    }
   ],
   "source": [
    "ids = {'user1': [213, 213, 213, 15, 213], \n",
    "       'user2': [54, 54, 119, 119, 119], \n",
    "       'user3': [213, 98, 98, 35]}\n",
    "geo_new = []\n",
    "for users in ids.values():\n",
    "    geo_new += users\n",
    "\n",
    "print( list(set(geo_new))) "
   ]
  },
  {
   "cell_type": "markdown",
   "metadata": {},
   "source": [
    "**Задание 3**. Дан список поисковых запросов. Получить распределение количества слов в них. \n",
    "Т. е. поисковых запросов из одного - слова 5%, из двух - 7%, из трех - 3% и т.д."
   ]
  },
  {
   "cell_type": "code",
   "execution_count": 22,
   "metadata": {},
   "outputs": [
    {
     "name": "stdout",
     "output_type": "stream",
     "text": [
      "Поисковых запросов из 1 слов/а - 12.0%\n",
      "Поисковых запросов из 2 слов/а - 38.0%\n",
      "Поисковых запросов из 3 слов/а - 50.0%\n"
     ]
    }
   ],
   "source": [
    "queries = [\n",
    "    'смотреть сериалы онлайн',\n",
    "    'новости спорта',\n",
    "    'афиша кино',\n",
    "    'курс доллара',\n",
    "    'сериалы этим летом',\n",
    "    'курс по питону',\n",
    "    'сериалы про спорт',\n",
    "    'hhhh'\n",
    "]\n",
    "\n",
    "# dict_XXX = {}\n",
    "# for x1 in queries:\n",
    "#     for x2 in x1.split(','):\n",
    "#         #print(len(x2.split(' ')))\n",
    "#         aaa = len(x2.split(' '))\n",
    "#         print(aaa)\n",
    "#         if x2['длина'] not in dict_XXX:\n",
    "#             dict_XXX['длина']  += x2\n",
    "            \n",
    "# for dish in queries:\n",
    "# #     print(dish)\n",
    "#     for ingr in dish.split(','):\n",
    "#         aaa = len(ingr.split(' '))\n",
    "#         print(aaa)\n",
    "#         if aaa['вв'] not in dict_XXX:\n",
    "#             dict_XXX['вв'] =  {'длина':aaa}\n",
    "#         else:\n",
    "#             dict_XXX['вв'] += aaa['длина']            \n",
    "\n",
    "# for dish in queries:\n",
    "#     for ingr in dish.split(','):\n",
    "#         aaa = len(ingr.split(' '))\n",
    "#         print(aaa)\n",
    "        \n",
    "new_list = []\n",
    "for a1 in queries:\n",
    "    words = 1 \n",
    "    for a2 in a1:\n",
    "        if a2!=' ':\n",
    "            continue\n",
    "        else:\n",
    "            words+=1\n",
    "    new_list.append(words)\n",
    "\n",
    "for a3 in set(new_list):\n",
    "    print(f'Поисковых запросов из {a3} слов/а - {round(new_list.count(a3)/len(queries)*100,0)}%')"
   ]
  },
  {
   "cell_type": "markdown",
   "metadata": {},
   "source": [
    "**Задание 4**. Дана статистика рекламных каналов по объемам продаж. Напишите скрипт, который возвращает название канала с максимальным объемом.\n",
    "Т. е. в данном примере скрипт должен возвращать 'yandex'."
   ]
  },
  {
   "cell_type": "code",
   "execution_count": 4,
   "metadata": {},
   "outputs": [
    {
     "name": "stdout",
     "output_type": "stream",
     "text": [
      "yandex\n"
     ]
    }
   ],
   "source": [
    "stats = {'facebook': 55, \n",
    "         'yandex': 120, \n",
    "         'vk': 115, \n",
    "         'google': 99, \n",
    "         'email': 42, \n",
    "         'ok': 98}\n",
    "for k, v in stats.items():\n",
    "    if v==max(stats.values()):\n",
    "        print(k)"
   ]
  },
  {
   "cell_type": "markdown",
   "metadata": {},
   "source": [
    "**Задание 5**. Напишите код для преобразования произвольного списка вида ['2018-01-01', 'yandex', 'cpc', 100] (он может быть любой длины) в словарь {'2018-01-01': {'yandex': {'cpc': 100}}}"
   ]
  },
  {
   "cell_type": "code",
   "execution_count": 6,
   "metadata": {},
   "outputs": [
    {
     "name": "stdout",
     "output_type": "stream",
     "text": [
      "{'2018-01-01': {'yandex': {'cpc': 100}}}\n"
     ]
    }
   ],
   "source": [
    "input_list = ['2018-01-01', 'yandex', 'cpc', 100]\n",
    "\n",
    "input_list.reverse()  #развернули список\n",
    "flag_ = 0\n",
    "dic_ = {}\n",
    "for i in range (1, len(input_list)):\n",
    "    if flag_ == 0:\n",
    "        dic_[input_list[i]] = input_list[i-1]\n",
    "        flag_ = 1\n",
    "    else:\n",
    "        dic_ = {input_list[i]: dic_}\n",
    "\n",
    "print(dic_)"
   ]
  }
 ],
 "metadata": {
  "kernelspec": {
   "display_name": "Python 3",
   "language": "python",
   "name": "python3"
  },
  "language_info": {
   "codemirror_mode": {
    "name": "ipython",
    "version": 3
   },
   "file_extension": ".py",
   "mimetype": "text/x-python",
   "name": "python",
   "nbconvert_exporter": "python",
   "pygments_lexer": "ipython3",
   "version": "3.7.6"
  }
 },
 "nbformat": 4,
 "nbformat_minor": 2
}
