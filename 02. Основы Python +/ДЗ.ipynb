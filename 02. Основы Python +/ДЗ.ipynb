{
 "cells": [
  {
   "cell_type": "markdown",
   "metadata": {},
   "source": [
    "#Сергеев Петр ДЗ v.1"
   ]
  },
  {
   "cell_type": "markdown",
   "metadata": {},
   "source": [
    "**Задание 1**. Даны 2 строки: *long_phrase* и *short_phrase*. \n",
    "Напишите код, который проверяет действительно ли длинная фраза *long_phrase* длиннее короткой *short_phrase*. И выводит *True* или *False* в зависимости от результата сравнения."
   ]
  },
  {
   "cell_type": "code",
   "execution_count": 27,
   "metadata": {},
   "outputs": [
    {
     "data": {
      "text/plain": [
       "True"
      ]
     },
     "execution_count": 27,
     "metadata": {},
     "output_type": "execute_result"
    }
   ],
   "source": [
    "long_phrase = 'Насколько проще было бы писать программы, если бы не заказчики'\n",
    "short_phrase = '640Кб должно хватить для любых задач. Билл Гейтс (по легенде)'\n",
    "len(long_phrase) > len(short_phrase)"
   ]
  },
  {
   "cell_type": "markdown",
   "metadata": {},
   "source": [
    "**Задание 2**. Дано значение объема файла в байтах (*в мегабайте 2^20 байт*). Напишите перевод этого значения в мегабайты в формате: \"*Объем файла равен 213.68Mb*\"."
   ]
  },
  {
   "cell_type": "code",
   "execution_count": 28,
   "metadata": {},
   "outputs": [
    {
     "name": "stdout",
     "output_type": "stream",
     "text": [
      "Объем файла равен: 4.2 Mb\n"
     ]
    }
   ],
   "source": [
    "#user_input = int(input('Введите размер файла в байтах: '))\n",
    "user_input = 1048576*4.2\n",
    "xxx = user_input / (2**20)\n",
    "print('Объем файла равен:', xxx, 'Mb')\n"
   ]
  },
  {
   "cell_type": "markdown",
   "metadata": {},
   "source": [
    "**Задание 3**. Разработать приложение для определения знака зодиака по дате рождения. Пример:\n",
    "\n",
    "Введите месяц: март\n",
    "\n",
    "Введите число: 6\n",
    "\n",
    "Вывод:\n",
    "Рыбы"
   ]
  },
  {
   "cell_type": "code",
   "execution_count": 48,
   "metadata": {},
   "outputs": [
    {
     "name": "stdout",
     "output_type": "stream",
     "text": [
      "Введите номер месяц рождения 1-12: 1\n",
      "Введите дату рождения 1-31: 20\n",
      "Козерог\n"
     ]
    }
   ],
   "source": [
    "v_month = int(input('Введите номер месяц рождения 1-12: '))\n",
    "v_data = int(input('Введите дату рождения 1-31: '))\n",
    "\n",
    "if (v_month == 1 and v_data >= 21) or (v_month == 2 and v_data <= 19): \n",
    "    print ('Водолей') \n",
    "elif (v_month == 2 and v_data >= 20) or (v_month == 3 and v_data <= 20): \n",
    "    print ('Рыбы') \n",
    "elif (v_month == 3 and v_data >= 21) or (v_month == 4 and v_data <= 20): \n",
    "    print ('Овен') \n",
    "elif (v_month == 4 and v_data >= 21) or (v_month == 5 and v_data <= 21): \n",
    "    print ('Телец') \n",
    "elif (v_month == 5 and v_data >= 22) or (v_month == 6 and v_data <= 21): \n",
    "    print ('Близнецы') \n",
    "elif (v_month == 6 and v_data >= 22) or (v_month == 7 and v_data <= 22): \n",
    "    print ('Рак') \n",
    "elif (v_month == 7 and v_data >= 23) or (v_month == 8 and v_data <= 22): \n",
    "    print ('Лев') \n",
    "elif (v_month == 8 and v_data >= 23) or (v_month == 9 and v_data <= 22): \n",
    "    print ('Дева') \n",
    "elif (v_month == 9 and v_data >= 23) or (v_month == 10 and v_data <= 22): \n",
    "    print ('Весы') \n",
    "elif (v_month == 10 and v_data >= 23) or (v_month == 11 and v_data <= 22): \n",
    "    print ('Скорпион') \n",
    "elif (v_month == 11 and v_data >= 23) or (v_month == 12 and v_data <= 21): \n",
    "    print ('Стрелец') \n",
    "else: \n",
    "    print ('Козерог')\n",
    "     "
   ]
  },
  {
   "cell_type": "markdown",
   "metadata": {},
   "source": [
    "**Задание 4**. Нужно разработать приложение для финансового планирования.\n",
    "Приложение учитывает сколько уходит на ипотеку, \"на жизнь\" и сколько нужно отложить на пенсию.\n",
    "Пользователь вводит:\n",
    "- заработанную плату в месяц.\n",
    "- сколько процентов от ЗП уходит на ипотеку.\n",
    "- сколько процентов от ЗП уходит \"на жизнь\".\n",
    "- сколько раз приходит премия в год.\n",
    "\n",
    "Остальная часть заработанной платы откладывается на пенсию.\n",
    "\n",
    "Также пользователю приходит премия в размере зарплаты, от которой половина уходит на отпуск, а вторая половина откладывается.\n",
    "\n",
    "Программа должна учитывать сколько премий было в год.\n",
    "\n",
    "Нужно вывести сколько денег тратит пользователь на ипотеку и сколько он накопит за год.\n",
    "\n",
    "Пример:\n",
    "\n",
    "Введите заработанную плату в месяц: 100000\n",
    "\n",
    "Введите сколько процентов уходит на ипотеку: 30\n",
    "\n",
    "Введите сколько процентов уходит на жизнь: 50\n",
    "\n",
    "Введите количество премий за год: 2\n",
    "\n",
    "Вывод:\n",
    "На ипотеку было потрачено: 360000 рублей\n",
    "Было накоплено: 340000 рублей"
   ]
  },
  {
   "cell_type": "code",
   "execution_count": 1,
   "metadata": {},
   "outputs": [
    {
     "name": "stdout",
     "output_type": "stream",
     "text": [
      "Введите заработанную плату в месяц: 100000\n",
      "Введите сколько процентов уходит на ипотеку: 30\n",
      "Введите сколько процентов уходит на жизнь: 50\n",
      "Введите количество премий за год: 2\n",
      "На ипотеку было потрачено: 360000.0 рублей\n",
      "Было накоплено: 340000.0 рублей\n"
     ]
    }
   ],
   "source": [
    "v_zarplata = int(input('Введите заработанную плату в месяц: '))\n",
    "v_persIpoteka = int(input('Введите сколько процентов уходит на ипотеку: '))\n",
    "v_persLife = int(input('Введите сколько процентов уходит на жизнь: '))\n",
    "v_colPrem = int(input('Введите количество премий за год: '))\n",
    "\n",
    "v_YearTotal = v_zarplata * 12 \n",
    "v_Ipoteka = v_YearTotal * v_persIpoteka / 100\n",
    "v_Zizhn = v_YearTotal * v_persLife / 100\n",
    "v_Pensia = (v_YearTotal - v_Ipoteka - v_Zizhn) + (v_colPrem * v_zarplata) * 0.5\n",
    "print ('На ипотеку было потрачено:', v_Ipoteka , 'рублей')\n",
    "print ('Было накоплено:', v_Pensia, 'рублей')\n",
    "\n"
   ]
  }
 ],
 "metadata": {
  "kernelspec": {
   "display_name": "Python 3",
   "language": "python",
   "name": "python3"
  },
  "language_info": {
   "codemirror_mode": {
    "name": "ipython",
    "version": 3
   },
   "file_extension": ".py",
   "mimetype": "text/x-python",
   "name": "python",
   "nbconvert_exporter": "python",
   "pygments_lexer": "ipython3",
   "version": "3.7.6"
  }
 },
 "nbformat": 4,
 "nbformat_minor": 2
}
