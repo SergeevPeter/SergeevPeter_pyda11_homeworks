{
 "cells": [
  {
   "cell_type": "markdown",
   "metadata": {},
   "source": [
    "**Задача 1**. Дано слово из латинских букв. Напишите скрипт, который выводит на экран букву из середины слова (если число букв нечетное). Если букв четное число, то на экран выводятся две буквы из середины.  \n",
    "\n",
    "Пример: для 'test' должно выводится 'es', для 'testing' - 't'"
   ]
  },
  {
   "cell_type": "code",
   "execution_count": 40,
   "metadata": {},
   "outputs": [
    {
     "name": "stdout",
     "output_type": "stream",
     "text": [
      "Длина текста = 10 | Первая буква ЦЧ = 5 |\n",
      "Четное. Буква = in\n"
     ]
    }
   ],
   "source": [
    "v = 'tesTingsdf'\n",
    "v1 = len(v)\n",
    "v2 = len(v)//2        #нужно именно целочисленное, так не сработает = round(v2)\n",
    "print(\n",
    "    'Длина текста =', v1, '|', \n",
    "    'Первая буква ЦЧ =', v2, '|'\n",
    "    )\n",
    "if v1%2 == 1:\n",
    "    print('Нечетное. Буква =', v[v2])\n",
    "else: \n",
    "    print('Четное. Буква =', v[(v2-1):(v2-1+2)] )"
   ]
  },
  {
   "cell_type": "markdown",
   "metadata": {},
   "source": [
    "**Задача 2**. Мы делаем MVP dating-сервиса, и у нас есть список парней и девушек (их число может варьироваться):"
   ]
  },
  {
   "cell_type": "markdown",
   "metadata": {},
   "source": [
    "Выдвигаем гипотезу: лучшие рекомендации мы получим, если просто отсортируем имена по алфавиту и познакомим людей с одинаковыми индексами после сортировки! \"Познакомить\" пары нам поможет функция zip, а в цикле распакуем zip-объект и выведем информацию в виде:\n",
    "\n",
    "Идеальные пары:  \n",
    "Alex и Emma  \n",
    "Arthur и Kate  \n",
    "John и Kira  \n",
    "Peter и Liza  \n",
    "Richard и Trisha  "
   ]
  },
  {
   "cell_type": "markdown",
   "metadata": {},
   "source": [
    "**Внимание! Если количество людей в списках будет не совпадать, то мы никого знакомить не будет и выведем пользователю предупреждение, что кто-то может остаться без пары!**"
   ]
  },
  {
   "cell_type": "code",
   "execution_count": 7,
   "metadata": {},
   "outputs": [
    {
     "name": "stdout",
     "output_type": "stream",
     "text": [
      "Идеальные пары:\n",
      "Alex и Emma\n",
      "Arthur и Kate\n",
      "John и Kira\n",
      "Peter и Liza\n",
      "Richard и Trisha\n"
     ]
    }
   ],
   "source": [
    "boys = ['Peter', 'Alex', 'John', 'Arthur', 'Richard']\n",
    "girls = ['Kate', 'Liza', 'Kira', 'Emma', 'Trisha']\n",
    "\n",
    "var = zip(sorted(boys),sorted(girls))\n",
    "var1 = list(var)\n",
    "\n",
    "if len(boys)==len(girls):\n",
    "    print('Идеальные пары:')\n",
    "    for item in var1:\n",
    "        print(item[0], 'и', item [1])\n",
    "else:\n",
    "    print('error')"
   ]
  },
  {
   "cell_type": "markdown",
   "metadata": {},
   "source": [
    "**Задача 3**. У нас есть список, содержащий информацию о среднедневной температуре в Фаренгейтах за недельный период по странам.\n",
    "Необходимо написать код, который рассчитает среднюю температуру за неделю в Цельсиях для каждой страны."
   ]
  },
  {
   "cell_type": "code",
   "execution_count": 17,
   "metadata": {},
   "outputs": [
    {
     "name": "stdout",
     "output_type": "stream",
     "text": [
      "Thailand = 23.86\n",
      "Germany = 13.71\n",
      "Russia = 3.71\n",
      "Poland = 11.86\n"
     ]
    }
   ],
   "source": [
    "countries_temperature = [\n",
    " ['Thailand', [75.2, 77, 78.8, 73.4, 68, 75.2, 77]],\n",
    " ['Germany', [57.2, 55.4, 59, 59, 53.6, 55.4, 57.2]],\n",
    " ['Russia', [35.6, 37.4, 39.2, 41, 42.8, 39.2, 35.6]],\n",
    " ['Poland', [50, 50, 53.6, 57.2, 55.4, 55.4, 51.8]],\n",
    "]\n",
    "\n",
    "for item in countries_temperature:\n",
    "    print(item[0], \"=\", \n",
    "          round((sum(item[1]) / len(item[1]) - 32) * 5/9, 2)\n",
    "         )"
   ]
  },
  {
   "cell_type": "markdown",
   "metadata": {},
   "source": [
    "**Задача 4.** Дан поток логов по количеству просмотренных страниц для каждого пользователя. Список отсортирован по ID пользователя. Вам необходимо написать алгоритм, который считает среднее значение просмотров на пользователя. \n",
    "Т. е. надо посчитать отношение суммы всех просмотров к количеству уникальных пользователей."
   ]
  },
  {
   "cell_type": "code",
   "execution_count": 68,
   "metadata": {},
   "outputs": [
    {
     "name": "stdout",
     "output_type": "stream",
     "text": [
      "23.25\n"
     ]
    }
   ],
   "source": [
    "stream = [\n",
    "    '2018-01-01,user1,3',\n",
    "    '2018-01-07,user1,4',\n",
    "    '2018-03-29,user1,1',\n",
    "    '2018-04-04,user1,13',\n",
    "    '2018-01-05,user2,7',\n",
    "    '2018-06-14,user3,4',\n",
    "    '2018-07-02,user3,10',\n",
    "    '2018-03-21,user4,19',\n",
    "    '2018-03-22,user4,4',\n",
    "    '2018-04-22,user4,8',\n",
    "    '2018-05-03,user4,9',\n",
    "    '2018-05-11,user4,11',\n",
    "]\n",
    "\n",
    "var_userVal = 0\n",
    "var_list = []\n",
    "\n",
    "for item in stream:\n",
    "    var_user = item.split(\",\")[1]\n",
    "    var_userVal = var_userVal + int(item.split(\",\")[2])\n",
    "    if var_user not in var_list:\n",
    "        var_list.append(var_user)\n",
    "print(var_userVal / len(var_list))"
   ]
  },
  {
   "cell_type": "markdown",
   "metadata": {},
   "source": [
    "**Задача 5**. Дана статистика рекламных кампаний по дням. Напишите алгоритм, который по паре дата-кампания ищет значение численного столбца. \n",
    "Т. е. для даты '2018-01-01' и 'google' нужно получить число 25. \n",
    "Считайте, что все комбинации дата-кампания уникальны."
   ]
  },
  {
   "cell_type": "code",
   "execution_count": 39,
   "metadata": {},
   "outputs": [
    {
     "name": "stdout",
     "output_type": "stream",
     "text": [
      "Введите дату в формате: YYYY-MM-DD2018-01-03\n",
      "Введите название компании: google\n",
      "1843\n"
     ]
    }
   ],
   "source": [
    "#вариант №1 мой для сдачи ДЗ \n",
    "stats = [\n",
    "    ['2018-01-01', 'google', 25],\n",
    "    ['2018-01-01', 'yandex', 65],\n",
    "    ['2018-01-01', 'market', 89],\n",
    "    ['2018-01-02', 'google', 574],\n",
    "    ['2018-01-02', 'yandex', 249],\n",
    "    ['2018-01-02', 'market', 994],\n",
    "    ['2018-01-03', 'google', 1843],\n",
    "    ['2018-01-03', 'yandex', 1327],\n",
    "    ['2018-01-03', 'market', 1764],\n",
    "]\n",
    "\n",
    "input_date = input('Введите дату в формате: YYYY-MM-DD')\n",
    "input_company = input('Введите название компании: ')\n",
    "\n",
    "for item in stats:\n",
    "    if input_date == item[0] and input_company == item[1]:\n",
    "        print(item[2])\n",
    "    #else:\n",
    "       # print('error')\n"
   ]
  },
  {
   "cell_type": "code",
   "execution_count": 16,
   "metadata": {},
   "outputs": [
    {
     "name": "stdout",
     "output_type": "stream",
     "text": [
      "Введите дату в формате: YYYY-MM-DD2018-01-02\n",
      "Введите название компании: google\n",
      "574\n"
     ]
    }
   ],
   "source": [
    "#вариант №2 из slack (чужой). Отличие в объявлении переменных внутри цикла\n",
    "\n",
    "stats = [\n",
    "    ['2018-01-01', 'google', 25],\n",
    "    ['2018-01-01', 'yandex', 65],\n",
    "    ['2018-01-01', 'market', 89],\n",
    "    ['2018-01-02', 'google', 574],\n",
    "    ['2018-01-02', 'yandex', 249],\n",
    "    ['2018-01-02', 'market', 994],\n",
    "    ['2018-01-03', 'google', 1843],\n",
    "    ['2018-01-03', 'yandex', 1327],\n",
    "    ['2018-01-03', 'market', 1764],\n",
    "]\n",
    "\n",
    "input_date = input('Введите дату в формате: YYYY-MM-DD')\n",
    "input_company = input('Введите название компании: ')\n",
    "\n",
    "\n",
    "for item in stats:\n",
    "    i_data = item[0]\n",
    "    i_company = item[1]\n",
    "    if input_date == i_data and input_company == i_company:\n",
    "        print(item[2])"
   ]
  },
  {
   "cell_type": "markdown",
   "metadata": {},
   "source": [
    "**Задача 6**. Дан список вида:"
   ]
  },
  {
   "cell_type": "code",
   "execution_count": 70,
   "metadata": {},
   "outputs": [
    {
     "name": "stdout",
     "output_type": "stream",
     "text": [
      "1 13\n",
      "2 32\n",
      "3 23\n",
      "4 35\n",
      "5 55\n",
      " \n",
      "Ответ: 158\n"
     ]
    }
   ],
   "source": [
    "#вариант №1 мой для сдачи ДЗ \n",
    "\n",
    "# companies_capitalization = [\n",
    "#  ['Orange', 1.3],\n",
    "#  ['Maxisoft', 1.5],\n",
    "#  ['Headbook', 0.8],\n",
    "#  ['Nicola', 2.2]\n",
    "# ]\n",
    "\n",
    "# data = [\n",
    "#     [13, 25, 23, 34],\n",
    "#     [45, 32, 44, 47],\n",
    "#     [12, 33, 23, 95],\n",
    "#     [13, 53, 34, 35]\n",
    "# ]\n",
    "\n",
    "data = [\n",
    "    [13, 25, 23, 34, 99],\n",
    "    [45, 32, 44, 47, 88],\n",
    "    [12, 33, 23, 95, 77],\n",
    "    [13, 53, 34, 35, 66],\n",
    "    [99, 88, 77, 66, 55]\n",
    "]\n",
    "\n",
    "var = 0\n",
    "\n",
    "for i, ii in enumerate(data):\n",
    "    print(i+1, ii[0 + i])\n",
    "    var = var + ii[0 + i]\n",
    "print(' ')\n",
    "print('Ответ:', var)"
   ]
  },
  {
   "cell_type": "code",
   "execution_count": 69,
   "metadata": {},
   "outputs": [
    {
     "name": "stdout",
     "output_type": "stream",
     "text": [
      "158\n"
     ]
    }
   ],
   "source": [
    "#вариант №2 чужой\n",
    "\n",
    "data = [\n",
    "    [13, 25, 23, 34, 99],\n",
    "    [45, 32, 44, 47, 88],\n",
    "    [12, 33, 23, 95, 77],\n",
    "    [13, 53, 34, 35, 66],\n",
    "    [99, 88, 77, 66, 55]\n",
    "]\n",
    "\n",
    "i1 = 0\n",
    "i2 = 0 \n",
    "i3  = 0\n",
    "for i in data:\n",
    "    i3 += data[i1][i2]\n",
    "    i1 += 1\n",
    "    i2 += 1\n",
    "print(i3)"
   ]
  },
  {
   "cell_type": "markdown",
   "metadata": {},
   "source": [
    "Напишите код, который будет вычислять сумму элементов на диагонали. Т. е. 13+32+23+35.  \n",
    "Список может быть любой длины, но всегда является \"квадратным\" (количество элементов во вложенных списках равно их количеству)."
   ]
  }
 ],
 "metadata": {
  "kernelspec": {
   "display_name": "Python 3",
   "language": "python",
   "name": "python3"
  },
  "language_info": {
   "codemirror_mode": {
    "name": "ipython",
    "version": 3
   },
   "file_extension": ".py",
   "mimetype": "text/x-python",
   "name": "python",
   "nbconvert_exporter": "python",
   "pygments_lexer": "ipython3",
   "version": "3.7.6"
  }
 },
 "nbformat": 4,
 "nbformat_minor": 2
}
